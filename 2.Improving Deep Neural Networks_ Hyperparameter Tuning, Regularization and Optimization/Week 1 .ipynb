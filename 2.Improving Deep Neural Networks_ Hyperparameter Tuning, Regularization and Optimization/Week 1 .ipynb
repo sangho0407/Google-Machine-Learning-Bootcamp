{
 "cells": [
  {
   "cell_type": "markdown",
   "id": "a6b41552",
   "metadata": {},
   "source": [
    "# Setting up your Machine Learning Application "
   ]
  },
  {
   "cell_type": "markdown",
   "id": "1baabee5",
   "metadata": {},
   "source": [
    "### Train / Dev / Test sets"
   ]
  },
  {
   "cell_type": "markdown",
   "id": "9e6f0094",
   "metadata": {},
   "source": [
    "1. **디프 러닝의 실용적인 측면**\n",
    "    - 딥 러닝에서는 많은 결정들을 내려야 합니다: 신경망의 계층 수, 각 계층의 숨겨진 단위의 수, 학습 속도, 활성화 함수 등을 결정해야 합니다.\n",
    "    - 초기 시도에서 모든 것을 올바르게 선택하는 것은 거의 불가능합니다. 그렇기 때문에 응용 기계 학습은 반복적인 프로세스입니다.\n",
    "  \n",
    "2. **현대 딥 러닝의 성공**\n",
    "    - 딥 러닝은 자연어 처리, 컴퓨터 비전, 음성 인식, 구조화된 데이터에서 큰 성공을 거두었습니다.\n",
    "    - 다양한 분야에서의 경험이 다른 분야로 그대로 전환되지 않을 수 있습니다. 따라서 적절한 하이퍼파라미터를 처음부터 정확하게 추측하는 것은 거의 불가능합니다.\n",
    "  \n",
    "3. **데이터 세트 설정**\n",
    "    - 전통적으로 사용 가능한 모든 데이터를 훈련, 검증(또는 개발), 테스트 세트로 나눕니다.\n",
    "    - 큰 데이터 세트를 가지고 있다면, 검증 및 테스트 세트의 크기를 줄일 수 있습니다. \n",
    "\n",
    "4. **불일치된 훈련 및 테스트 분포**\n",
    "    - 딥 러닝에서는 훈련 데이터와 테스트 데이터가 다른 분포를 가질 수 있습니다.\n",
    "    - 중요한 것은 개발 세트와 테스트 세트가 같은 분포를 가져야 한다는 것입니다.\n",
    "\n",
    "5. **테스트 세트의 필요성**\n",
    "    - 모든 상황에서 테스트 세트가 필요한 것은 아닙니다. \n",
    "    - 테스트 세트의 목적은 최종 모델의 성능에 대한 편향되지 않은 추정을 제공하는 것입니다.\""
   ]
  }
 ],
 "metadata": {
  "kernelspec": {
   "display_name": "Python 3 (ipykernel)",
   "language": "python",
   "name": "python3"
  },
  "language_info": {
   "codemirror_mode": {
    "name": "ipython",
    "version": 3
   },
   "file_extension": ".py",
   "mimetype": "text/x-python",
   "name": "python",
   "nbconvert_exporter": "python",
   "pygments_lexer": "ipython3",
   "version": "3.10.9"
  }
 },
 "nbformat": 4,
 "nbformat_minor": 5
}
