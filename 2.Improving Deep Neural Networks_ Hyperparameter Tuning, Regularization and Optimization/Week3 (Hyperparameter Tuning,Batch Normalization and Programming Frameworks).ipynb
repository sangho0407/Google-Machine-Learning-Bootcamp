{
 "cells": [
  {
   "cell_type": "markdown",
   "id": "c0d5fbc4",
   "metadata": {},
   "source": [
    "# Hyperparameter Tuning"
   ]
  },
  {
   "cell_type": "markdown",
   "id": "f19dab34",
   "metadata": {},
   "source": [
    "# Tuning Process"
   ]
  },
  {
   "cell_type": "markdown",
   "id": "f59b1b52",
   "metadata": {},
   "source": [
    "심층 신경망을 훈련시킬 때 설정해야 하는 하이퍼파라미터의 수는 굉장히 많습니다. 그 중에서도 학습률(α)는 가장 중요하게 고려해야 하는 하이퍼파라미터입니다. 다른 하이퍼파라미터 중 몇몇은 α 다음으로 중요할 수 있습니다. 그럼에도 불구하고, 어떤 하이퍼파라미터가 중요한지 미리 알 수 없기 때문에 효과적인 하이퍼파라미터 탐색 방법이 필요합니다.\n",
    "\n",
    "전통적인 기계 학습 알고리즘에서는 하이퍼파라미터의 값들을 그리드(grid) 형식으로 샘플링하여 시스템적으로 탐색하곤 했습니다. 그러나 깊은 학습에서는 무작위로 샘플링하는 것이 권장됩니다. 이유는 무작위 샘플링을 통해 중요한 하이퍼파라미터의 가능한 값을 더 풍부하게 탐색할 수 있기 때문입니다.\n",
    "\n",
    "또한, 무작위로 하이퍼파라미터를 샘플링할 때 \"대략적에서 세밀한(coarse to fine)\" 샘플링 방식을 사용하는 것이 좋습니다. 즉, 처음에는 넓은 범위에서 무작위로 샘플링을 수행한 후, 가장 좋은 결과를 보이는 영역을 좁혀 그 안에서 다시 무작위 샘플링을 수행하는 방식입니다.\n",
    "\n",
    "결론적으로, 하이퍼파라미터 탐색 과정을 더 체계적으로 구성하려면 무작위 샘플링을 사용하고, 필요한 경우 대략적에서 세밀한 탐색 과정을 구현하는 것이 좋습니다."
   ]
  },
  {
   "cell_type": "code",
   "execution_count": null,
   "id": "2c7a949a",
   "metadata": {},
   "outputs": [],
   "source": []
  }
 ],
 "metadata": {
  "kernelspec": {
   "display_name": "Python 3 (ipykernel)",
   "language": "python",
   "name": "python3"
  },
  "language_info": {
   "codemirror_mode": {
    "name": "ipython",
    "version": 3
   },
   "file_extension": ".py",
   "mimetype": "text/x-python",
   "name": "python",
   "nbconvert_exporter": "python",
   "pygments_lexer": "ipython3",
   "version": "3.10.9"
  }
 },
 "nbformat": 4,
 "nbformat_minor": 5
}
