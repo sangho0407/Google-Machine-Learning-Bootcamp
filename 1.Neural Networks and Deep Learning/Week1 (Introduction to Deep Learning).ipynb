{
 "cells": [
  {
   "cell_type": "markdown",
   "id": "5e8aefdb",
   "metadata": {},
   "source": [
    "# Learning Objectives"
   ]
  },
  {
   "cell_type": "markdown",
   "id": "1612680d",
   "metadata": {},
   "source": [
    "## 1. What is a Neural Network?"
   ]
  },
  {
   "cell_type": "markdown",
   "id": "7882d589",
   "metadata": {},
   "source": [
    "- 신경망과 딥러닝:<br>\n",
    "신경망은 입력 데이터를 받아서 특정 출력을 내놓는 함수를 모델링합니다.<br>\n",
    "가장 기본적인 신경망은 입력을 받아 선형적으로 가공한 뒤, 그 결과를 비선형 함수를 통해 출력합니다.<br>\n",
    "비선형 함수 중 하나로 ReLU (Rectified Linear Unit) 함수가 자주 사용됩니다.<br>\n",
    "신경망은 여러 '노드' 또는 '뉴런'으로 구성됩니다.<br>\n",
    "뉴런은 기본적으로 입력을 받아서 처리한 후 출력을 내보냅니다.<br>\n",
    "더 복잡한 신경망은 여러 뉴런을 층층이 쌓아서 구성됩니다.<br>\n",
    "각 뉴런은 입력 데이터의 다양한 특성과 상호 작용하여 최종적인 예측을 도출합니다.<br>\n",
    "지도 학습의 문제에 신경망을 사용하면 뛰어난 예측 성능을 기대할 수 있습니다.<br>"
   ]
  },
  {
   "cell_type": "markdown",
   "id": "7216d094",
   "metadata": {},
   "source": [
    "# 2. Supervised Learning with Neural Networks"
   ]
  },
  {
   "cell_type": "markdown",
   "id": "2990da8d",
   "metadata": {},
   "source": [
    "- 지도학습과 뉴럴네트워크 :<br>\n",
    "지도학습은 입력 x를 받아 출력 y로 매핑하는 함수를 학습하는 방법입니다. 예를 들어 주택 가격 예측에서 집의 특징을 입력으로 받아 가격 y를 예측합니다.<br>\n",
    "컴퓨터 비전, 음성 인식, 기계 번역, 자율주행 자동차 분야에서도 뉴럴 네트워크의 활용이 증가하고 있습니다.<br>\n",
    "다양한 응용 프로그램에는 서로 다른 유형의 뉴럴 네트워크가 필요합니다. 예를 들면 이미지 작업에는 CNN (Convolutional Neural Network)이, 시퀀스 데이터에는 RNN (Recurrent Neural Network)이 사용됩니다.<br>\n",
    "데이터는 구조화된 데이터와 비구조화된 데이터로 나뉩니다. 구조화된 데이터는 데이터베이스 형태의 데이터를 의미하며, 비구조화된 데이터는 오디오, 이미지, 텍스트와 같은 형태를 의미합니다.<br>"
   ]
  },
  {
   "cell_type": "markdown",
   "id": "a380c89f",
   "metadata": {},
   "source": [
    "# 3.Why is Deep Learning taking off?"
   ]
  },
  {
   "cell_type": "markdown",
   "id": "d1d80608",
   "metadata": {},
   "source": [
    "딥러닝의 기본 기술적 아이디어는 수십 년 동안 존재했지만, 최근에야 큰 관심을 받고 있습니다.데이터의 양이 늘어나면서 딥러닝의 효과가 두드러지게 되었습니다.<br>\n",
    "전통적인 학습 알고리즘은 데이터의 양이 많아져도 성능이 향상되지 않았으나, 신경망은 데이터가 많을수록 성능이 향상됩니다.큰 신경망을 학습시키려면 많은 양의 데이터와 큰 규모의 신경망이 필요합니다.<br>"
   ]
  }
 ],
 "metadata": {
  "kernelspec": {
   "display_name": "Python 3 (ipykernel)",
   "language": "python",
   "name": "python3"
  },
  "language_info": {
   "codemirror_mode": {
    "name": "ipython",
    "version": 3
   },
   "file_extension": ".py",
   "mimetype": "text/x-python",
   "name": "python",
   "nbconvert_exporter": "python",
   "pygments_lexer": "ipython3",
   "version": "3.10.9"
  }
 },
 "nbformat": 4,
 "nbformat_minor": 5
}
